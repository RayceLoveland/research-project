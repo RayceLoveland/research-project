{
 "cells": [
  {
   "cell_type": "code",
   "execution_count": 5,
   "id": "9f0b33fe-4152-43cd-9780-e72b61b40f73",
   "metadata": {},
   "outputs": [
    {
     "name": "stdout",
     "output_type": "stream",
     "text": [
      "good morning starshine, the earth says hello\n"
     ]
    }
   ],
   "source": [
    "print ('good morning starshine, the earth says hello')"
   ]
  },
  {
   "cell_type": "markdown",
   "id": "066b8341-ba11-4db6-8355-cedd45d1f252",
   "metadata": {},
   "source": [
    "Rayce Loveland"
   ]
  },
  {
   "cell_type": "code",
   "execution_count": null,
   "id": "2443092d-2b0b-40ff-be30-da5fbd04aea2",
   "metadata": {},
   "outputs": [],
   "source": []
  }
 ],
 "metadata": {
  "kernelspec": {
   "display_name": "Python [conda env:base] *",
   "language": "python",
   "name": "conda-base-py"
  },
  "language_info": {
   "codemirror_mode": {
    "name": "ipython",
    "version": 3
   },
   "file_extension": ".py",
   "mimetype": "text/x-python",
   "name": "python",
   "nbconvert_exporter": "python",
   "pygments_lexer": "ipython3",
   "version": "3.12.7"
  }
 },
 "nbformat": 4,
 "nbformat_minor": 5
}
